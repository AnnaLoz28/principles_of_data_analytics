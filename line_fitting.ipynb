{
 "cells": [
  {
   "cell_type": "markdown",
   "metadata": {},
   "source": [
    "# **Line Fitting**"
   ]
  },
  {
   "cell_type": "markdown",
   "metadata": {},
   "source": [
    "When we want to analyze the relationship between two variables, we may want to see if they fit a line.  It helps predict the values of one variable based on the values of another variable.\n",
    "\n",
    "Line fitting is the process of constructing a straight line that has the best fit to a series of data points. A good fit displays most points around the line with a high correlation and random residuals.\n",
    "\n",
    "**Line of best fit** (also known as the trend line or regression line) is a straight line that best represents the relationship between a set of data points. \n",
    "\n",
    "We can also say that a straight line drawn on a scatter plot and lies near the majority of the data points is called the line of best fit.\n",
    "\n",
    "This line is also a predictive tool, useful for forecasting trends. \n",
    "\n",
    "A straight line in two dimensions can always by written as:\n",
    "\n",
    "**y = mx + c**\n",
    "\n",
    "Multiple methods and packages exist to achieve that, such as NumPy and SciPy.\n",
    "\n",
    "https://www.geeksforgeeks.org/line-of-best-fit/\n",
    "\n",
    "https://www.geeksforgeeks.org/linear-regression-formula/\n",
    "\n",
    "https://www.geeksforgeeks.org/line-of-best-fit/\n",
    "\n",
    "NumPy.polyfit():\n",
    "\n",
    "https://numpy.org/doc/stable/reference/generated/numpy.polyfit.html\n",
    "\n",
    "\n",
    "\n"
   ]
  },
  {
   "cell_type": "code",
   "execution_count": 1,
   "metadata": {},
   "outputs": [],
   "source": [
    "import numpy as np\n",
    "import matplotlib.pyplot as plt"
   ]
  },
  {
   "cell_type": "markdown",
   "metadata": {},
   "source": [
    "## Setup Data"
   ]
  },
  {
   "cell_type": "code",
   "execution_count": 13,
   "metadata": {},
   "outputs": [
    {
     "name": "stdout",
     "output_type": "stream",
     "text": [
      "[ 0.          0.34482759  0.68965517  1.03448276  1.37931034  1.72413793\n",
      "  2.06896552  2.4137931   2.75862069  3.10344828  3.44827586  3.79310345\n",
      "  4.13793103  4.48275862  4.82758621  5.17241379  5.51724138  5.86206897\n",
      "  6.20689655  6.55172414  6.89655172  7.24137931  7.5862069   7.93103448\n",
      "  8.27586207  8.62068966  8.96551724  9.31034483  9.65517241 10.        ]\n"
     ]
    }
   ],
   "source": [
    "x = np.linspace(0.0, 10.0, 30) \n",
    "print(x)"
   ]
  },
  {
   "cell_type": "code",
   "execution_count": 14,
   "metadata": {},
   "outputs": [
    {
     "name": "stdout",
     "output_type": "stream",
     "text": [
      "[ 0.          1.03448276  2.06896552  3.10344828  4.13793103  5.17241379\n",
      "  6.20689655  7.24137931  8.27586207  9.31034483 10.34482759 11.37931034\n",
      " 12.4137931  13.44827586 14.48275862 15.51724138 16.55172414 17.5862069\n",
      " 18.62068966 19.65517241 20.68965517 21.72413793 22.75862069 23.79310345\n",
      " 24.82758621 25.86206897 26.89655172 27.93103448 28.96551724 30.        ]\n"
     ]
    }
   ],
   "source": [
    "y = x * 3.0 \n",
    "print(y)"
   ]
  },
  {
   "cell_type": "code",
   "execution_count": 15,
   "metadata": {},
   "outputs": [
    {
     "name": "stdout",
     "output_type": "stream",
     "text": [
      "3.0 9.977136871045759e-16\n"
     ]
    }
   ],
   "source": [
    "slope, intercept = np.polyfit(x, y, deg = 1) # deg = 1 is for linear fit\n",
    "print(slope, intercept)"
   ]
  }
 ],
 "metadata": {
  "kernelspec": {
   "display_name": "Python 3",
   "language": "python",
   "name": "python3"
  },
  "language_info": {
   "codemirror_mode": {
    "name": "ipython",
    "version": 3
   },
   "file_extension": ".py",
   "mimetype": "text/x-python",
   "name": "python",
   "nbconvert_exporter": "python",
   "pygments_lexer": "ipython3",
   "version": "3.12.1"
  }
 },
 "nbformat": 4,
 "nbformat_minor": 2
}
