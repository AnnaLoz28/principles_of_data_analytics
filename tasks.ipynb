{
 "cells": [
  {
   "cell_type": "markdown",
   "metadata": {},
   "source": [
    "# **Tasks**"
   ]
  },
  {
   "cell_type": "markdown",
   "metadata": {},
   "source": [
    "# **Task 1: Source the Data Set**\n",
    "\n",
    "Import the Iris data set from the sklearn.datasets module. \n",
    "Explain, in your own words, what the load_iris() function returns."
   ]
  },
  {
   "cell_type": "markdown",
   "metadata": {},
   "source": [
    "# *Solution*\n",
    "\n",
    "Loading all the necessary modules."
   ]
  },
  {
   "cell_type": "code",
   "execution_count": 1,
   "metadata": {},
   "outputs": [],
   "source": [
    "# Import Sklearn Machine Learning Library, containing the Iris data set\n",
    "import sklearn as skl "
   ]
  },
  {
   "cell_type": "code",
   "execution_count": 2,
   "metadata": {},
   "outputs": [],
   "source": [
    "# import Pandas as pd\n",
    "import pandas as pd"
   ]
  },
  {
   "cell_type": "code",
   "execution_count": 3,
   "metadata": {},
   "outputs": [],
   "source": [
    "# import Numpy as np\n",
    "import numpy as np"
   ]
  },
  {
   "cell_type": "code",
   "execution_count": 4,
   "metadata": {},
   "outputs": [],
   "source": [
    "# import Matplotlib as plt\n",
    "import matplotlib.pyplot as plt"
   ]
  },
  {
   "cell_type": "markdown",
   "metadata": {},
   "source": [
    "Load the iris dataset from sklearn dataset collection.\n",
    "\n",
    "https://scikit-learn.org/stable/modules/generated/sklearn.datasets.load_iris.html"
   ]
  },
  {
   "cell_type": "code",
   "execution_count": 5,
   "metadata": {},
   "outputs": [],
   "source": [
    "# Import the Iris data set from Sklearn Library as iris\n",
    "iris = skl.datasets.load_iris()"
   ]
  },
  {
   "cell_type": "markdown",
   "metadata": {},
   "source": [
    " The load_iris() function returns the Irisdata set from the collection of the Sklearn datasets. It allows to load and import the Iris dataset, visualize its data and all the information needed to understand it."
   ]
  },
  {
   "cell_type": "markdown",
   "metadata": {},
   "source": [
    "# **Task 2: Explore the Data Structure**\n",
    "\n",
    "Print and explain the shape of the dataset, the first and last 5 rows of the data, the feature names, and the target classes. "
   ]
  },
  {
   "cell_type": "markdown",
   "metadata": {},
   "source": [
    "# *Solution*\n"
   ]
  },
  {
   "cell_type": "code",
   "execution_count": 6,
   "metadata": {},
   "outputs": [
    {
     "data": {
      "text/plain": [
       "{'data': array([[5.1, 3.5, 1.4, 0.2],\n",
       "        [4.9, 3. , 1.4, 0.2],\n",
       "        [4.7, 3.2, 1.3, 0.2],\n",
       "        [4.6, 3.1, 1.5, 0.2],\n",
       "        [5. , 3.6, 1.4, 0.2],\n",
       "        [5.4, 3.9, 1.7, 0.4],\n",
       "        [4.6, 3.4, 1.4, 0.3],\n",
       "        [5. , 3.4, 1.5, 0.2],\n",
       "        [4.4, 2.9, 1.4, 0.2],\n",
       "        [4.9, 3.1, 1.5, 0.1],\n",
       "        [5.4, 3.7, 1.5, 0.2],\n",
       "        [4.8, 3.4, 1.6, 0.2],\n",
       "        [4.8, 3. , 1.4, 0.1],\n",
       "        [4.3, 3. , 1.1, 0.1],\n",
       "        [5.8, 4. , 1.2, 0.2],\n",
       "        [5.7, 4.4, 1.5, 0.4],\n",
       "        [5.4, 3.9, 1.3, 0.4],\n",
       "        [5.1, 3.5, 1.4, 0.3],\n",
       "        [5.7, 3.8, 1.7, 0.3],\n",
       "        [5.1, 3.8, 1.5, 0.3],\n",
       "        [5.4, 3.4, 1.7, 0.2],\n",
       "        [5.1, 3.7, 1.5, 0.4],\n",
       "        [4.6, 3.6, 1. , 0.2],\n",
       "        [5.1, 3.3, 1.7, 0.5],\n",
       "        [4.8, 3.4, 1.9, 0.2],\n",
       "        [5. , 3. , 1.6, 0.2],\n",
       "        [5. , 3.4, 1.6, 0.4],\n",
       "        [5.2, 3.5, 1.5, 0.2],\n",
       "        [5.2, 3.4, 1.4, 0.2],\n",
       "        [4.7, 3.2, 1.6, 0.2],\n",
       "        [4.8, 3.1, 1.6, 0.2],\n",
       "        [5.4, 3.4, 1.5, 0.4],\n",
       "        [5.2, 4.1, 1.5, 0.1],\n",
       "        [5.5, 4.2, 1.4, 0.2],\n",
       "        [4.9, 3.1, 1.5, 0.2],\n",
       "        [5. , 3.2, 1.2, 0.2],\n",
       "        [5.5, 3.5, 1.3, 0.2],\n",
       "        [4.9, 3.6, 1.4, 0.1],\n",
       "        [4.4, 3. , 1.3, 0.2],\n",
       "        [5.1, 3.4, 1.5, 0.2],\n",
       "        [5. , 3.5, 1.3, 0.3],\n",
       "        [4.5, 2.3, 1.3, 0.3],\n",
       "        [4.4, 3.2, 1.3, 0.2],\n",
       "        [5. , 3.5, 1.6, 0.6],\n",
       "        [5.1, 3.8, 1.9, 0.4],\n",
       "        [4.8, 3. , 1.4, 0.3],\n",
       "        [5.1, 3.8, 1.6, 0.2],\n",
       "        [4.6, 3.2, 1.4, 0.2],\n",
       "        [5.3, 3.7, 1.5, 0.2],\n",
       "        [5. , 3.3, 1.4, 0.2],\n",
       "        [7. , 3.2, 4.7, 1.4],\n",
       "        [6.4, 3.2, 4.5, 1.5],\n",
       "        [6.9, 3.1, 4.9, 1.5],\n",
       "        [5.5, 2.3, 4. , 1.3],\n",
       "        [6.5, 2.8, 4.6, 1.5],\n",
       "        [5.7, 2.8, 4.5, 1.3],\n",
       "        [6.3, 3.3, 4.7, 1.6],\n",
       "        [4.9, 2.4, 3.3, 1. ],\n",
       "        [6.6, 2.9, 4.6, 1.3],\n",
       "        [5.2, 2.7, 3.9, 1.4],\n",
       "        [5. , 2. , 3.5, 1. ],\n",
       "        [5.9, 3. , 4.2, 1.5],\n",
       "        [6. , 2.2, 4. , 1. ],\n",
       "        [6.1, 2.9, 4.7, 1.4],\n",
       "        [5.6, 2.9, 3.6, 1.3],\n",
       "        [6.7, 3.1, 4.4, 1.4],\n",
       "        [5.6, 3. , 4.5, 1.5],\n",
       "        [5.8, 2.7, 4.1, 1. ],\n",
       "        [6.2, 2.2, 4.5, 1.5],\n",
       "        [5.6, 2.5, 3.9, 1.1],\n",
       "        [5.9, 3.2, 4.8, 1.8],\n",
       "        [6.1, 2.8, 4. , 1.3],\n",
       "        [6.3, 2.5, 4.9, 1.5],\n",
       "        [6.1, 2.8, 4.7, 1.2],\n",
       "        [6.4, 2.9, 4.3, 1.3],\n",
       "        [6.6, 3. , 4.4, 1.4],\n",
       "        [6.8, 2.8, 4.8, 1.4],\n",
       "        [6.7, 3. , 5. , 1.7],\n",
       "        [6. , 2.9, 4.5, 1.5],\n",
       "        [5.7, 2.6, 3.5, 1. ],\n",
       "        [5.5, 2.4, 3.8, 1.1],\n",
       "        [5.5, 2.4, 3.7, 1. ],\n",
       "        [5.8, 2.7, 3.9, 1.2],\n",
       "        [6. , 2.7, 5.1, 1.6],\n",
       "        [5.4, 3. , 4.5, 1.5],\n",
       "        [6. , 3.4, 4.5, 1.6],\n",
       "        [6.7, 3.1, 4.7, 1.5],\n",
       "        [6.3, 2.3, 4.4, 1.3],\n",
       "        [5.6, 3. , 4.1, 1.3],\n",
       "        [5.5, 2.5, 4. , 1.3],\n",
       "        [5.5, 2.6, 4.4, 1.2],\n",
       "        [6.1, 3. , 4.6, 1.4],\n",
       "        [5.8, 2.6, 4. , 1.2],\n",
       "        [5. , 2.3, 3.3, 1. ],\n",
       "        [5.6, 2.7, 4.2, 1.3],\n",
       "        [5.7, 3. , 4.2, 1.2],\n",
       "        [5.7, 2.9, 4.2, 1.3],\n",
       "        [6.2, 2.9, 4.3, 1.3],\n",
       "        [5.1, 2.5, 3. , 1.1],\n",
       "        [5.7, 2.8, 4.1, 1.3],\n",
       "        [6.3, 3.3, 6. , 2.5],\n",
       "        [5.8, 2.7, 5.1, 1.9],\n",
       "        [7.1, 3. , 5.9, 2.1],\n",
       "        [6.3, 2.9, 5.6, 1.8],\n",
       "        [6.5, 3. , 5.8, 2.2],\n",
       "        [7.6, 3. , 6.6, 2.1],\n",
       "        [4.9, 2.5, 4.5, 1.7],\n",
       "        [7.3, 2.9, 6.3, 1.8],\n",
       "        [6.7, 2.5, 5.8, 1.8],\n",
       "        [7.2, 3.6, 6.1, 2.5],\n",
       "        [6.5, 3.2, 5.1, 2. ],\n",
       "        [6.4, 2.7, 5.3, 1.9],\n",
       "        [6.8, 3. , 5.5, 2.1],\n",
       "        [5.7, 2.5, 5. , 2. ],\n",
       "        [5.8, 2.8, 5.1, 2.4],\n",
       "        [6.4, 3.2, 5.3, 2.3],\n",
       "        [6.5, 3. , 5.5, 1.8],\n",
       "        [7.7, 3.8, 6.7, 2.2],\n",
       "        [7.7, 2.6, 6.9, 2.3],\n",
       "        [6. , 2.2, 5. , 1.5],\n",
       "        [6.9, 3.2, 5.7, 2.3],\n",
       "        [5.6, 2.8, 4.9, 2. ],\n",
       "        [7.7, 2.8, 6.7, 2. ],\n",
       "        [6.3, 2.7, 4.9, 1.8],\n",
       "        [6.7, 3.3, 5.7, 2.1],\n",
       "        [7.2, 3.2, 6. , 1.8],\n",
       "        [6.2, 2.8, 4.8, 1.8],\n",
       "        [6.1, 3. , 4.9, 1.8],\n",
       "        [6.4, 2.8, 5.6, 2.1],\n",
       "        [7.2, 3. , 5.8, 1.6],\n",
       "        [7.4, 2.8, 6.1, 1.9],\n",
       "        [7.9, 3.8, 6.4, 2. ],\n",
       "        [6.4, 2.8, 5.6, 2.2],\n",
       "        [6.3, 2.8, 5.1, 1.5],\n",
       "        [6.1, 2.6, 5.6, 1.4],\n",
       "        [7.7, 3. , 6.1, 2.3],\n",
       "        [6.3, 3.4, 5.6, 2.4],\n",
       "        [6.4, 3.1, 5.5, 1.8],\n",
       "        [6. , 3. , 4.8, 1.8],\n",
       "        [6.9, 3.1, 5.4, 2.1],\n",
       "        [6.7, 3.1, 5.6, 2.4],\n",
       "        [6.9, 3.1, 5.1, 2.3],\n",
       "        [5.8, 2.7, 5.1, 1.9],\n",
       "        [6.8, 3.2, 5.9, 2.3],\n",
       "        [6.7, 3.3, 5.7, 2.5],\n",
       "        [6.7, 3. , 5.2, 2.3],\n",
       "        [6.3, 2.5, 5. , 1.9],\n",
       "        [6.5, 3. , 5.2, 2. ],\n",
       "        [6.2, 3.4, 5.4, 2.3],\n",
       "        [5.9, 3. , 5.1, 1.8]]),\n",
       " 'target': array([0, 0, 0, 0, 0, 0, 0, 0, 0, 0, 0, 0, 0, 0, 0, 0, 0, 0, 0, 0, 0, 0,\n",
       "        0, 0, 0, 0, 0, 0, 0, 0, 0, 0, 0, 0, 0, 0, 0, 0, 0, 0, 0, 0, 0, 0,\n",
       "        0, 0, 0, 0, 0, 0, 1, 1, 1, 1, 1, 1, 1, 1, 1, 1, 1, 1, 1, 1, 1, 1,\n",
       "        1, 1, 1, 1, 1, 1, 1, 1, 1, 1, 1, 1, 1, 1, 1, 1, 1, 1, 1, 1, 1, 1,\n",
       "        1, 1, 1, 1, 1, 1, 1, 1, 1, 1, 1, 1, 2, 2, 2, 2, 2, 2, 2, 2, 2, 2,\n",
       "        2, 2, 2, 2, 2, 2, 2, 2, 2, 2, 2, 2, 2, 2, 2, 2, 2, 2, 2, 2, 2, 2,\n",
       "        2, 2, 2, 2, 2, 2, 2, 2, 2, 2, 2, 2, 2, 2, 2, 2, 2, 2]),\n",
       " 'frame': None,\n",
       " 'target_names': array(['setosa', 'versicolor', 'virginica'], dtype='<U10'),\n",
       " 'DESCR': '.. _iris_dataset:\\n\\nIris plants dataset\\n--------------------\\n\\n**Data Set Characteristics:**\\n\\n:Number of Instances: 150 (50 in each of three classes)\\n:Number of Attributes: 4 numeric, predictive attributes and the class\\n:Attribute Information:\\n    - sepal length in cm\\n    - sepal width in cm\\n    - petal length in cm\\n    - petal width in cm\\n    - class:\\n            - Iris-Setosa\\n            - Iris-Versicolour\\n            - Iris-Virginica\\n\\n:Summary Statistics:\\n\\n============== ==== ==== ======= ===== ====================\\n                Min  Max   Mean    SD   Class Correlation\\n============== ==== ==== ======= ===== ====================\\nsepal length:   4.3  7.9   5.84   0.83    0.7826\\nsepal width:    2.0  4.4   3.05   0.43   -0.4194\\npetal length:   1.0  6.9   3.76   1.76    0.9490  (high!)\\npetal width:    0.1  2.5   1.20   0.76    0.9565  (high!)\\n============== ==== ==== ======= ===== ====================\\n\\n:Missing Attribute Values: None\\n:Class Distribution: 33.3% for each of 3 classes.\\n:Creator: R.A. Fisher\\n:Donor: Michael Marshall (MARSHALL%PLU@io.arc.nasa.gov)\\n:Date: July, 1988\\n\\nThe famous Iris database, first used by Sir R.A. Fisher. The dataset is taken\\nfrom Fisher\\'s paper. Note that it\\'s the same as in R, but not as in the UCI\\nMachine Learning Repository, which has two wrong data points.\\n\\nThis is perhaps the best known database to be found in the\\npattern recognition literature.  Fisher\\'s paper is a classic in the field and\\nis referenced frequently to this day.  (See Duda & Hart, for example.)  The\\ndata set contains 3 classes of 50 instances each, where each class refers to a\\ntype of iris plant.  One class is linearly separable from the other 2; the\\nlatter are NOT linearly separable from each other.\\n\\n.. dropdown:: References\\n\\n  - Fisher, R.A. \"The use of multiple measurements in taxonomic problems\"\\n    Annual Eugenics, 7, Part II, 179-188 (1936); also in \"Contributions to\\n    Mathematical Statistics\" (John Wiley, NY, 1950).\\n  - Duda, R.O., & Hart, P.E. (1973) Pattern Classification and Scene Analysis.\\n    (Q327.D83) John Wiley & Sons.  ISBN 0-471-22361-1.  See page 218.\\n  - Dasarathy, B.V. (1980) \"Nosing Around the Neighborhood: A New System\\n    Structure and Classification Rule for Recognition in Partially Exposed\\n    Environments\".  IEEE Transactions on Pattern Analysis and Machine\\n    Intelligence, Vol. PAMI-2, No. 1, 67-71.\\n  - Gates, G.W. (1972) \"The Reduced Nearest Neighbor Rule\".  IEEE Transactions\\n    on Information Theory, May 1972, 431-433.\\n  - See also: 1988 MLC Proceedings, 54-64.  Cheeseman et al\"s AUTOCLASS II\\n    conceptual clustering system finds 3 classes in the data.\\n  - Many, many more ...\\n',\n",
       " 'feature_names': ['sepal length (cm)',\n",
       "  'sepal width (cm)',\n",
       "  'petal length (cm)',\n",
       "  'petal width (cm)'],\n",
       " 'filename': 'iris.csv',\n",
       " 'data_module': 'sklearn.datasets.data'}"
      ]
     },
     "execution_count": 6,
     "metadata": {},
     "output_type": "execute_result"
    }
   ],
   "source": [
    "# Visualize the imported Iris data set\n",
    "iris"
   ]
  },
  {
   "cell_type": "markdown",
   "metadata": {},
   "source": [
    "When we load the Iris dataset, it is returned as a dictionary-like object, which stores information in key–value pairs. The structure includes:\n",
    "\n",
    "- **data**: a NumPy array containing the numeric feature values for each sample (sepal length, sepal width, petal length, petal width).\n",
    "\n",
    "- **target**: an array of numeric labels (0, 1, 2) representing the target classes (species of iris). \n",
    "\n",
    "- **frame**: it is None by default. If *as_frame = True* is set, the dataset will be returned as a DataFrame with data and target (https://scikit-learn.org/1.4/modules/generated/sklearn.datasets.load_iris.html#sklearn.datasets.load_iris).\n",
    "\n",
    "- **target_names**: an array with the names of the target classes (setosa, versicolor, virginica).\n",
    "\n",
    "- **DESCR**: a string with the detailed description of the dataset.\n",
    "\n",
    "- **feature_names**: a list of feature names (sepal length, sepal width, petal length, petal width) describing the columns of \"data\".\n",
    "\n",
    "- **filename**: dataset path.\n",
    "\n",
    "- **data_module**: dataset origin module in the sklearn.datasets. \n",
    "\n"
   ]
  },
  {
   "cell_type": "markdown",
   "metadata": {},
   "source": [
    "\n",
    "\n",
    "## Exploring \"data\""
   ]
  },
  {
   "cell_type": "code",
   "execution_count": 7,
   "metadata": {},
   "outputs": [
    {
     "name": "stdout",
     "output_type": "stream",
     "text": [
      "(150, 4)\n"
     ]
    }
   ],
   "source": [
    "# exploring the shape of \"data\"\n",
    "\n",
    "print(iris.data.shape)"
   ]
  },
  {
   "cell_type": "markdown",
   "metadata": {},
   "source": [
    "We can see that \"data\" contains 150 rows and 4 columns."
   ]
  },
  {
   "cell_type": "code",
   "execution_count": 8,
   "metadata": {},
   "outputs": [],
   "source": [
    "# visualize iris \"data\" as a Pandas DataFrame\n",
    "# https://pandas.pydata.org/docs/reference/api/pandas.DataFrame.html \n",
    "df = pd.DataFrame(iris.data, columns= iris.feature_names) # set the iris dataset feature_names as DataFrame column names "
   ]
  },
  {
   "cell_type": "code",
   "execution_count": 9,
   "metadata": {},
   "outputs": [
    {
     "data": {
      "text/html": [
       "<div>\n",
       "<style scoped>\n",
       "    .dataframe tbody tr th:only-of-type {\n",
       "        vertical-align: middle;\n",
       "    }\n",
       "\n",
       "    .dataframe tbody tr th {\n",
       "        vertical-align: top;\n",
       "    }\n",
       "\n",
       "    .dataframe thead th {\n",
       "        text-align: right;\n",
       "    }\n",
       "</style>\n",
       "<table border=\"1\" class=\"dataframe\">\n",
       "  <thead>\n",
       "    <tr style=\"text-align: right;\">\n",
       "      <th></th>\n",
       "      <th>sepal length (cm)</th>\n",
       "      <th>sepal width (cm)</th>\n",
       "      <th>petal length (cm)</th>\n",
       "      <th>petal width (cm)</th>\n",
       "    </tr>\n",
       "  </thead>\n",
       "  <tbody>\n",
       "    <tr>\n",
       "      <th>0</th>\n",
       "      <td>5.1</td>\n",
       "      <td>3.5</td>\n",
       "      <td>1.4</td>\n",
       "      <td>0.2</td>\n",
       "    </tr>\n",
       "    <tr>\n",
       "      <th>1</th>\n",
       "      <td>4.9</td>\n",
       "      <td>3.0</td>\n",
       "      <td>1.4</td>\n",
       "      <td>0.2</td>\n",
       "    </tr>\n",
       "    <tr>\n",
       "      <th>2</th>\n",
       "      <td>4.7</td>\n",
       "      <td>3.2</td>\n",
       "      <td>1.3</td>\n",
       "      <td>0.2</td>\n",
       "    </tr>\n",
       "    <tr>\n",
       "      <th>3</th>\n",
       "      <td>4.6</td>\n",
       "      <td>3.1</td>\n",
       "      <td>1.5</td>\n",
       "      <td>0.2</td>\n",
       "    </tr>\n",
       "    <tr>\n",
       "      <th>4</th>\n",
       "      <td>5.0</td>\n",
       "      <td>3.6</td>\n",
       "      <td>1.4</td>\n",
       "      <td>0.2</td>\n",
       "    </tr>\n",
       "  </tbody>\n",
       "</table>\n",
       "</div>"
      ],
      "text/plain": [
       "   sepal length (cm)  sepal width (cm)  petal length (cm)  petal width (cm)\n",
       "0                5.1               3.5                1.4               0.2\n",
       "1                4.9               3.0                1.4               0.2\n",
       "2                4.7               3.2                1.3               0.2\n",
       "3                4.6               3.1                1.5               0.2\n",
       "4                5.0               3.6                1.4               0.2"
      ]
     },
     "execution_count": 9,
     "metadata": {},
     "output_type": "execute_result"
    }
   ],
   "source": [
    "# show the first 5 rows of \"data\"\n",
    "df.head(5)"
   ]
  },
  {
   "cell_type": "code",
   "execution_count": 10,
   "metadata": {},
   "outputs": [
    {
     "data": {
      "text/html": [
       "<div>\n",
       "<style scoped>\n",
       "    .dataframe tbody tr th:only-of-type {\n",
       "        vertical-align: middle;\n",
       "    }\n",
       "\n",
       "    .dataframe tbody tr th {\n",
       "        vertical-align: top;\n",
       "    }\n",
       "\n",
       "    .dataframe thead th {\n",
       "        text-align: right;\n",
       "    }\n",
       "</style>\n",
       "<table border=\"1\" class=\"dataframe\">\n",
       "  <thead>\n",
       "    <tr style=\"text-align: right;\">\n",
       "      <th></th>\n",
       "      <th>sepal length (cm)</th>\n",
       "      <th>sepal width (cm)</th>\n",
       "      <th>petal length (cm)</th>\n",
       "      <th>petal width (cm)</th>\n",
       "    </tr>\n",
       "  </thead>\n",
       "  <tbody>\n",
       "    <tr>\n",
       "      <th>145</th>\n",
       "      <td>6.7</td>\n",
       "      <td>3.0</td>\n",
       "      <td>5.2</td>\n",
       "      <td>2.3</td>\n",
       "    </tr>\n",
       "    <tr>\n",
       "      <th>146</th>\n",
       "      <td>6.3</td>\n",
       "      <td>2.5</td>\n",
       "      <td>5.0</td>\n",
       "      <td>1.9</td>\n",
       "    </tr>\n",
       "    <tr>\n",
       "      <th>147</th>\n",
       "      <td>6.5</td>\n",
       "      <td>3.0</td>\n",
       "      <td>5.2</td>\n",
       "      <td>2.0</td>\n",
       "    </tr>\n",
       "    <tr>\n",
       "      <th>148</th>\n",
       "      <td>6.2</td>\n",
       "      <td>3.4</td>\n",
       "      <td>5.4</td>\n",
       "      <td>2.3</td>\n",
       "    </tr>\n",
       "    <tr>\n",
       "      <th>149</th>\n",
       "      <td>5.9</td>\n",
       "      <td>3.0</td>\n",
       "      <td>5.1</td>\n",
       "      <td>1.8</td>\n",
       "    </tr>\n",
       "  </tbody>\n",
       "</table>\n",
       "</div>"
      ],
      "text/plain": [
       "     sepal length (cm)  sepal width (cm)  petal length (cm)  petal width (cm)\n",
       "145                6.7               3.0                5.2               2.3\n",
       "146                6.3               2.5                5.0               1.9\n",
       "147                6.5               3.0                5.2               2.0\n",
       "148                6.2               3.4                5.4               2.3\n",
       "149                5.9               3.0                5.1               1.8"
      ]
     },
     "execution_count": 10,
     "metadata": {},
     "output_type": "execute_result"
    }
   ],
   "source": [
    "# show the last 5 rows of \"data\"\n",
    "df.tail(5)"
   ]
  },
  {
   "cell_type": "markdown",
   "metadata": {},
   "source": [
    "We can see that \"data\" contains 150 rows (corresponding to 150 samples), and 4 columns (corresponding to 4 features).\n",
    "\n",
    "1. sepal length (cm)\n",
    "\n",
    "2. sepal width (cm)\n",
    "\n",
    "3. petal length (cm)\n",
    "\n",
    "4. petal width (cm)"
   ]
  },
  {
   "cell_type": "markdown",
   "metadata": {},
   "source": [
    "\n",
    "\n",
    "## Exploring \"feature_names\""
   ]
  },
  {
   "cell_type": "code",
   "execution_count": 11,
   "metadata": {},
   "outputs": [
    {
     "name": "stdout",
     "output_type": "stream",
     "text": [
      "['sepal length (cm)', 'sepal width (cm)', 'petal length (cm)', 'petal width (cm)']\n"
     ]
    }
   ],
   "source": [
    "# visualize \"feature_names\"\n",
    "print(iris.feature_names)"
   ]
  },
  {
   "cell_type": "markdown",
   "metadata": {},
   "source": [
    "The 4 feature_names correspond to the 4 columns of the dataset and represent the characteristics measured for each *Iris* flower."
   ]
  },
  {
   "cell_type": "markdown",
   "metadata": {},
   "source": [
    "\n",
    "\n",
    "## Exploring \"target\""
   ]
  },
  {
   "cell_type": "code",
   "execution_count": 12,
   "metadata": {},
   "outputs": [
    {
     "name": "stdout",
     "output_type": "stream",
     "text": [
      "[0 0 0 0 0 0 0 0 0 0 0 0 0 0 0 0 0 0 0 0 0 0 0 0 0 0 0 0 0 0 0 0 0 0 0 0 0\n",
      " 0 0 0 0 0 0 0 0 0 0 0 0 0 1 1 1 1 1 1 1 1 1 1 1 1 1 1 1 1 1 1 1 1 1 1 1 1\n",
      " 1 1 1 1 1 1 1 1 1 1 1 1 1 1 1 1 1 1 1 1 1 1 1 1 1 1 2 2 2 2 2 2 2 2 2 2 2\n",
      " 2 2 2 2 2 2 2 2 2 2 2 2 2 2 2 2 2 2 2 2 2 2 2 2 2 2 2 2 2 2 2 2 2 2 2 2 2\n",
      " 2 2]\n"
     ]
    }
   ],
   "source": [
    "# print the \"target\" of iris dataset\n",
    "print(iris.target)"
   ]
  },
  {
   "cell_type": "code",
   "execution_count": 13,
   "metadata": {},
   "outputs": [
    {
     "data": {
      "text/plain": [
       "(array([0, 1, 2]), array([50, 50, 50]))"
      ]
     },
     "execution_count": 13,
     "metadata": {},
     "output_type": "execute_result"
    }
   ],
   "source": [
    "# return the unique values contained in the \"target\" and count them\n",
    "np.unique(iris.target, return_counts= True)"
   ]
  },
  {
   "cell_type": "code",
   "execution_count": 14,
   "metadata": {},
   "outputs": [
    {
     "name": "stdout",
     "output_type": "stream",
     "text": [
      "['setosa' 'versicolor' 'virginica']\n"
     ]
    }
   ],
   "source": [
    "# print the iris taget_names\n",
    "print(iris.target_names)"
   ]
  },
  {
   "cell_type": "markdown",
   "metadata": {},
   "source": [
    "We can see that \"target\" contains 3 numerical values (0, 1, 2), corresponding to three species of *Iris* flowers (*Iris setosa*, *Iris virginica*, *Iris versicolor*, respectively) and to 50 flowers each.  \n",
    "https://en.wikipedia.org/wiki/Iris_flower_data_set\n",
    "\n",
    "- 0, *Iris setosa*, 50 flowers\n",
    "\n",
    "- 1, *Iris virginica*, 50 flowers\n",
    "\n",
    "- 2, *Iris versicolor*, 50 flowers"
   ]
  },
  {
   "cell_type": "markdown",
   "metadata": {},
   "source": [
    "\n",
    "\n",
    "\n",
    "\n",
    "# **Task 3: Summarize the Data**\n",
    "\n",
    "For each feature in the data set, calculate and display:\n",
    "\n",
    "1. Mean\n",
    "\n",
    "2. Minimum\n",
    "\n",
    "3. Maximum \n",
    "\n",
    "4. Standard deviation \n",
    "\n",
    "5. Median "
   ]
  },
  {
   "cell_type": "markdown",
   "metadata": {},
   "source": [
    "# *Solution* "
   ]
  },
  {
   "cell_type": "markdown",
   "metadata": {},
   "source": [
    "As we have seen, Irisdata set contains 4 features:\n",
    "\n",
    "- Sepal Length (cm)\n",
    "\n",
    "- Sepal Width (cm)\n",
    "\n",
    "- Petal Length (cm)\n",
    "\n",
    "- Petal Width (cm)\n",
    "\n",
    "\n"
   ]
  },
  {
   "cell_type": "code",
   "execution_count": 15,
   "metadata": {},
   "outputs": [],
   "source": [
    "# create a function that performs the feature analysis and prints out the results\n",
    "def feature_analysis (x):\n",
    "    mean = np.mean(x)\n",
    "    median = np.median(x)\n",
    "    std = np.std(x)\n",
    "    min = np.min(x)\n",
    "    max = np.max(x)\n",
    "    print(f\"Mean: {mean:.2f}.\\nMedian: {median:.2f}.\\nStandard deviation: {std:.2f}.\\nMinimum value: {min:.2f}.\\nMaximum value: {max:.2f}.\")"
   ]
  },
  {
   "cell_type": "code",
   "execution_count": 16,
   "metadata": {},
   "outputs": [],
   "source": [
    "# define each feature as a variable\n",
    "sl = iris[\"data\"][:,0] # sepal length\n",
    "sw = iris[\"data\"][:,1] # sepal width\n",
    "pl = iris[\"data\"][:,2] # petal length\n",
    "pw = iris[\"data\"][:,3] # petal width"
   ]
  },
  {
   "cell_type": "code",
   "execution_count": 17,
   "metadata": {},
   "outputs": [
    {
     "name": "stdout",
     "output_type": "stream",
     "text": [
      "Mean: 5.84.\n",
      "Median: 5.80.\n",
      "Standard deviation: 0.83.\n",
      "Minimum value: 4.30.\n",
      "Maximum value: 7.90.\n"
     ]
    }
   ],
   "source": [
    "# analyse the sepal length feature\n",
    "feature_analysis(sl)"
   ]
  },
  {
   "cell_type": "code",
   "execution_count": 18,
   "metadata": {},
   "outputs": [
    {
     "name": "stdout",
     "output_type": "stream",
     "text": [
      "Mean: 3.06.\n",
      "Median: 3.00.\n",
      "Standard deviation: 0.43.\n",
      "Minimum value: 2.00.\n",
      "Maximum value: 4.40.\n"
     ]
    }
   ],
   "source": [
    "# analyse the sepal width feature\n",
    "feature_analysis(sw)"
   ]
  },
  {
   "cell_type": "code",
   "execution_count": 19,
   "metadata": {},
   "outputs": [
    {
     "name": "stdout",
     "output_type": "stream",
     "text": [
      "Mean: 3.76.\n",
      "Median: 4.35.\n",
      "Standard deviation: 1.76.\n",
      "Minimum value: 1.00.\n",
      "Maximum value: 6.90.\n"
     ]
    }
   ],
   "source": [
    "# analyse the petal length feature\n",
    "feature_analysis(pl)"
   ]
  },
  {
   "cell_type": "code",
   "execution_count": 20,
   "metadata": {},
   "outputs": [
    {
     "name": "stdout",
     "output_type": "stream",
     "text": [
      "Mean: 1.20.\n",
      "Median: 1.30.\n",
      "Standard deviation: 0.76.\n",
      "Minimum value: 0.10.\n",
      "Maximum value: 2.50.\n"
     ]
    }
   ],
   "source": [
    "# analyse the petal width feature\n",
    "feature_analysis(pw)"
   ]
  },
  {
   "cell_type": "markdown",
   "metadata": {},
   "source": [
    "Alternatively, a DataFrame with the summary of all features can be created to visualize them all."
   ]
  },
  {
   "cell_type": "code",
   "execution_count": 21,
   "metadata": {},
   "outputs": [],
   "source": [
    "# creation of a DataFrame with features summary \n",
    "features_summary= pd.DataFrame({\n",
    "    \"Mean\" : df.mean(),\n",
    "    \"Median\" : df.median(),\n",
    "    \"Standard Deviation\" : df.std(),\n",
    "    \"Minimum\" : df.min(),\n",
    "    \"Maximum\" : df.max()\n",
    "})"
   ]
  },
  {
   "cell_type": "code",
   "execution_count": 22,
   "metadata": {},
   "outputs": [
    {
     "name": "stdout",
     "output_type": "stream",
     "text": [
      "                       Mean  Median  Standard Deviation  Minimum  Maximum\n",
      "sepal length (cm)  5.843333    5.80            0.828066      4.3      7.9\n",
      "sepal width (cm)   3.057333    3.00            0.435866      2.0      4.4\n",
      "petal length (cm)  3.758000    4.35            1.765298      1.0      6.9\n",
      "petal width (cm)   1.199333    1.30            0.762238      0.1      2.5\n"
     ]
    }
   ],
   "source": [
    "# print the features_summary DataFrame\n",
    "print(features_summary)"
   ]
  },
  {
   "cell_type": "markdown",
   "metadata": {},
   "source": [
    "\n",
    "# **Task 4: Visualize Features**\n",
    "\n",
    "Plot histograms for each feature using matplotlib. \n",
    "Add appropriate titles and axis labels. "
   ]
  },
  {
   "cell_type": "markdown",
   "metadata": {},
   "source": [
    "# *Solution*"
   ]
  },
  {
   "cell_type": "markdown",
   "metadata": {},
   "source": [
    "A histogram is a plot showing the frequency distribution (on the y-axes) of a variable (on the x-axis).  \n",
    "It shows the distribution of the variable values within a given interval.\n",
    "\n",
    "https://www.w3schools.com/python/matplotlib_histograms.asp"
   ]
  },
  {
   "cell_type": "code",
   "execution_count": 23,
   "metadata": {},
   "outputs": [
    {
     "data": {
      "image/png": "[encoded data removed]",
      "text/plain": [
       "<Figure size 640x480 with 1 Axes>"
      ]
     },
     "metadata": {},
     "output_type": "display_data"
    }
   ],
   "source": [
    "# create a histogram plot of Sepal Length (https://matplotlib.org/stable/api/_as_gen/matplotlib.axes.Axes.hist.html#matplotlib.axes.Axes.hist)\n",
    "plt.hist(sl, color='blue', edgecolor='black');\n",
    "title_font= {\"family\": \"sans-serif\", \"color\" : \"black\", \"size\" : 16, \"weight\" : \"bold\"} # create a different font for the title of the plot (https://how.dev/answers/how-to-set-font-properties-for-title-and-labels-in-matplotlib, https://matplotlib.org/stable/users/explain/text/text_props.html)\n",
    "plt.title('Sepal Length', fontdict= title_font);\n",
    "plt.xlabel('Sepal Length (cm)')\n",
    "plt.ylabel('Frequency')\n",
    "plt.show()"
   ]
  },
  {
   "cell_type": "markdown",
   "metadata": {},
   "source": [
    "The histogram plot of sepal length shows that most flowers have a sepal length around 5.5 - 6.0 cm, while few have very short and very long sepals.  \n",
    "The distribution range is broa, but we can see 3 peaks. If these 3 peaks are related to different species of *Iris* flowers, this feature may be helpful in discriminating them."
   ]
  },
  {
   "cell_type": "code",
   "execution_count": 24,
   "metadata": {},
   "outputs": [
    {
     "data": {
      "image/png": "[encoded data removed]",
      "text/plain": [
       "<Figure size 640x480 with 1 Axes>"
      ]
     },
     "metadata": {},
     "output_type": "display_data"
    }
   ],
   "source": [
    "# create a histogram plot of Sepal Width\n",
    "plt.hist(sw, color='green', edgecolor='black');\n",
    "plt.title('Sepal Width', fontdict= title_font)\n",
    "plt.xlabel('Sepal Width (cm)')\n",
    "plt.ylabel('Frequency')\n",
    "plt.show()"
   ]
  },
  {
   "cell_type": "markdown",
   "metadata": {},
   "source": [
    "The histogram plot of sepal width shows that many flowers have a sepal width between 2.5 and 3.3 cm, while few have very narrow or broad sepals. "
   ]
  },
  {
   "cell_type": "code",
   "execution_count": 25,
   "metadata": {},
   "outputs": [
    {
     "data": {
      "image/png": "[encoded data removed]",
      "text/plain": [
       "<Figure size 640x480 with 1 Axes>"
      ]
     },
     "metadata": {},
     "output_type": "display_data"
    }
   ],
   "source": [
    "# create a histogram plot of Petal Length\n",
    "plt.hist(pl, color='red', edgecolor='black');\n",
    "plt.title('Petal Length', fontdict= title_font)\n",
    "plt.xlabel('Petal Length (cm)')\n",
    "plt.ylabel('Frequency')\n",
    "plt.show()"
   ]
  },
  {
   "cell_type": "markdown",
   "metadata": {},
   "source": [
    "The histogram plot of petal length shows 2 peaks, with a bimodal distribution type.  \n",
    "There is a great separation between short and long petals, which can help classify flowers if these values are related to the *Iris* species."
   ]
  },
  {
   "cell_type": "code",
   "execution_count": 26,
   "metadata": {},
   "outputs": [
    {
     "data": {
      "image/png": "[encoded data removed]",
      "text/plain": [
       "<Figure size 640x480 with 1 Axes>"
      ]
     },
     "metadata": {},
     "output_type": "display_data"
    }
   ],
   "source": [
    "# create a histogram plot of Petal Width\n",
    "plt.hist(pw, color='purple', edgecolor='black');\n",
    "plt.title('Petal Width', fontdict= title_font)\n",
    "plt.xlabel('Petal Width (cm)')\n",
    "plt.ylabel('Frequency')\n",
    "plt.show()"
   ]
  },
  {
   "cell_type": "markdown",
   "metadata": {},
   "source": [
    "The histogram plot of petal width shows a bimodal or trimodal distribution.  \n",
    "This feature can be informative and can be used to classify *Iris* flowers if it's related to the species."
   ]
  },
  {
   "cell_type": "markdown",
   "metadata": {},
   "source": [
    "# **Task 5: Investigate Relationships**\n",
    "\n",
    "Choose any two features from the data set and create a scatter plot of them. \n",
    "Color-code the three different classes of the scatter plot points. "
   ]
  },
  {
   "cell_type": "markdown",
   "metadata": {},
   "source": [
    "# *Solution*"
   ]
  },
  {
   "cell_type": "markdown",
   "metadata": {},
   "source": [
    "A scatterplot displays individual data points on a two-dimensional plane. Each point represents the values of two variables, with one plotted on the x-axis and the other on the y-axis.  \n",
    "Scatterplots help visualize relationships, correlations, and patterns between variables.\n",
    "\n",
    "https://en.wikipedia.org/wiki/Scatter_plot\n"
   ]
  },
  {
   "cell_type": "markdown",
   "metadata": {},
   "source": [
    "To create a scatterplot of Sepal Length (cm) vs Petal Length (cm) with the three different species of *Iris* flowers represented by three different colors, with a legend, every value of **iris.target** should be assigned a color, based on their type (0, 1, or 2).  \n",
    "To achieve that the zip() built-in function will be used. \n",
    "\n",
    "**zip()** combines multiple iterables (like lists, tuples, or other sequences) element by element, creating an iterator of tuples. Each tuple contains one element from each of the input iterables.  \n",
    "https://www.w3schools.com/python/ref_func_zip.asp "
   ]
  },
  {
   "cell_type": "code",
   "execution_count": 27,
   "metadata": {},
   "outputs": [],
   "source": [
    "# assign Iris flowers target values to \"species\" variable (https://numpy.org/doc/stable/reference/generated/numpy.unique.html)\n",
    "species = np.unique(iris.target) "
   ]
  },
  {
   "cell_type": "code",
   "execution_count": 28,
   "metadata": {},
   "outputs": [],
   "source": [
    "# create a list of colors that will be used for the scatterplot\n",
    "colors = [\"red\", \"green\", \"blue\"]"
   ]
  },
  {
   "cell_type": "code",
   "execution_count": 29,
   "metadata": {},
   "outputs": [],
   "source": [
    "# create a zip object (then converted to a list) that links the values contained in \"species\" with those in \"colors\" (https://www.w3schools.com/python/ref_func_zip.asp)\n",
    "paired_colors_species = list(zip(species, colors))"
   ]
  },
  {
   "cell_type": "markdown",
   "metadata": {},
   "source": [
    "To ensure that each species gets plotted with its own color, a loop will be used to filter the data by species for each iteration of the loop.  \n",
    "**np.where()** is a function that returns the indices where a particular condition is met. In this case it will return the indices in the iris.target array where the value equals the current i in the loop (0, 1, or 2.).  \n",
    "The returned indices will be used to select only the corresponding sepal length and petal length values for the current species.\n",
    "\n",
    "https://numpy.org/doc/2.2/reference/generated/numpy.where.html"
   ]
  },
  {
   "cell_type": "code",
   "execution_count": 30,
   "metadata": {},
   "outputs": [
    {
     "data": {
      "image/png": "[encoded data removed]",
      "text/plain": [
       "<Figure size 640x480 with 1 Axes>"
      ]
     },
     "metadata": {},
     "output_type": "display_data"
    }
   ],
   "source": [
    "# create a scatter plot of Sepal Length vs Petal Length (https://matplotlib.org/stable/api/_as_gen/matplotlib.pyplot.scatter.html)\n",
    "for i, col in paired_colors_species:\n",
    "    indices = np.where(iris.target == i) \n",
    "    plt.scatter(sl[indices], pl[indices], marker = \".\", color = col, label = iris.target_names[i])\n",
    "plt.xlabel('Sepal Length (cm)', fontsize=9)\n",
    "plt.ylabel('Petal Length (cm)', fontsize=9)\n",
    "plt.title('Petal Length vs Sepal Length', fontdict= title_font)\n",
    "plt.legend(title='Species', fontsize = 10)\n",
    "plt.show()"
   ]
  },
  {
   "cell_type": "markdown",
   "metadata": {},
   "source": [
    "The plot shows a positive correlation between sepal length and petal length. As petal length increases sepal length increases as well.  \n",
    "This positive correlation is particularly visibile in *Iris versicolor* and *Iris virginica*, shown in green and blue respectively.  \n",
    "The three species create distinct clusters (especially *Iris setosa*), meaning that these 2 features are informative and can be useful for species classification.  \n",
    "In terms of dimensions, *Iris virginica* shows the longest sepals and petals, followed by *Iris versicolor*. *Iris setosa*, instead, appears to have very short sepals and petals. "
   ]
  },
  {
   "cell_type": "markdown",
   "metadata": {},
   "source": [
    "# **Task 6: Analyze Relationship** \n",
    "\n",
    "Use nympy.polyfit to add a regression line to the scatter plot from Task 5. "
   ]
  },
  {
   "cell_type": "markdown",
   "metadata": {},
   "source": [
    "# *Solution*"
   ]
  },
  {
   "cell_type": "markdown",
   "metadata": {},
   "source": [
    "The regression line can be used to examine the linear relationship between two variable and explore correlations in the dataset.  \n",
    "https://www.geeksforgeeks.org/line-of-best-fit/  \n",
    "https://www.geeksforgeeks.org/linear-regression-formula/\n",
    "\n",
    "np.polyfit() is a function that can be used to calculate the 2 coefficients of the line (slope and intercept).  \n",
    "https://numpy.org/doc/stable/reference/generated/numpy.polyfit.html\n"
   ]
  },
  {
   "cell_type": "code",
   "execution_count": 31,
   "metadata": {},
   "outputs": [
    {
     "name": "stdout",
     "output_type": "stream",
     "text": [
      "1.858432978254841 -7.1014433696024515\n"
     ]
    }
   ],
   "source": [
    "# calculate the line of best fit coefficients\n",
    "m, c = np.polyfit(sl, pl, 1)\n",
    "print(m, c)"
   ]
  },
  {
   "cell_type": "code",
   "execution_count": 32,
   "metadata": {},
   "outputs": [
    {
     "data": {
      "image/png": "[encoded data removed]",
      "text/plain": [
       "<Figure size 640x480 with 1 Axes>"
      ]
     },
     "metadata": {},
     "output_type": "display_data"
    }
   ],
   "source": [
    "# create a scatter plot of Sepal Width vs Petal Width with the line of best fit\n",
    "for i, col in paired_colors_species:\n",
    "    indices = np.where(iris.target == i) \n",
    "    plt.scatter(sl[indices], pl[indices], marker = \".\", color = col, label = iris.target_names[i])\n",
    "plt.xlabel('Sepal Length (cm)', fontsize=9)\n",
    "plt.ylabel('Petal Length (cm)', fontsize=9)\n",
    "plt.title('Petal Length vs Sepal Length', fontdict= title_font)\n",
    "plt.legend(title='Species', fontsize = 10)\n",
    "plt.plot(sl, m*sl + c, color = 'orange'); # plot the regression line in the scatterplot\n",
    "plt.show()"
   ]
  },
  {
   "cell_type": "markdown",
   "metadata": {},
   "source": [
    "The regression line has a positive slope, showing a positive correlation between sepal length and petal length, that tend to increase together.  \n",
    "The fit is good but not perfect, with the line fitting better the *Iris virginica* and *versicolor* species, while *setosa* shows many data points not fitting the line (and that may distort the slope).  \n",
    "There appears to be a correlation pattern, but it doesn't imply causation. \n"
   ]
  },
  {
   "cell_type": "markdown",
   "metadata": {},
   "source": [
    "# **Task 7: Analyze Class Distributions**\n",
    "\n",
    "Create box-plots of the petal lengths for each of the three classes.  "
   ]
  },
  {
   "cell_type": "markdown",
   "metadata": {},
   "source": [
    "# *Solution*"
   ]
  },
  {
   "cell_type": "markdown",
   "metadata": {},
   "source": [
    "A boxplot is a useful tool that graphically demonstrates how data is distributed using quartiles. It allows us to visualize skewness, detect outliers, assess central tendency (such as the median), and compare different datasets more easily.  \n",
    "A boxplot shows important information, such as:\n",
    "\n",
    "- Minimum \n",
    "\n",
    "- First quartile (Q1), 25th percentile\n",
    "\n",
    "- Median (Q2), the middle value of a dataset\n",
    "\n",
    "- Third quartile (Q3), 75th percentile\n",
    "\n",
    "- Maximum\n",
    "\n",
    "- The Interquartile range (IQR), which is Q3 - Q1\n",
    "\n",
    "- Outliers\n",
    "\n",
    "Each quartile corresponds to 25% of data. Whiskers are useful for visualizing the minimum and maximum values within a certain range, while any ouliers (extremely large or small values) are shown as individual data points outside the whiskers.  \n",
    "https://en.wikipedia.org/wiki/Box_plot  \n",
    "https://www.khanacademy.org/math/statistics-probability/summarizing-quantitative-data/box-whisker-plots/a/box-plot-review  \n",
    "\n",
    "\n",
    "As we have seen, there are three classes of *Iris* flowers: *setosa*, *versicolor* and *virginica*, identified as 0, 1, and 2, respectively. "
   ]
  },
  {
   "cell_type": "code",
   "execution_count": null,
   "metadata": {},
   "outputs": [],
   "source": [
    "# creating distinct variables with the data of the 3 Iris species\n",
    "setosa = iris[\"data\"][iris[\"target\"] == 0]\n",
    "versicolor = iris[\"data\"][iris[\"target\"] == 1]\n",
    "virginica = iris[\"data\"][iris[\"target\"] == 2]"
   ]
  },
  {
   "cell_type": "code",
   "execution_count": null,
   "metadata": {},
   "outputs": [
    {
     "name": "stdout",
     "output_type": "stream",
     "text": [
      "[1.4 1.4 1.3 1.5 1.4 1.7 1.4 1.5 1.4 1.5 1.5 1.6 1.4 1.1 1.2 1.5 1.3 1.4\n",
      " 1.7 1.5 1.7 1.5 1.  1.7 1.9 1.6 1.6 1.5 1.4 1.6 1.6 1.5 1.5 1.4 1.5 1.2\n",
      " 1.3 1.4 1.3 1.5 1.3 1.3 1.3 1.6 1.9 1.4 1.6 1.4 1.5 1.4]\n"
     ]
    }
   ],
   "source": [
    "# print the petal length values of Iris setosa\n",
    "setosa_pl = setosa[:,2] # petal length is the third column \n",
    "print(setosa_pl)\n"
   ]
  },
  {
   "cell_type": "code",
   "execution_count": 51,
   "metadata": {},
   "outputs": [
    {
     "data": {
      "image/png": "[encoded data removed]",
      "text/plain": [
       "<Figure size 640x480 with 1 Axes>"
      ]
     },
     "metadata": {},
     "output_type": "display_data"
    }
   ],
   "source": [
    "# create a boxplot of petal length for setosa species (https://matplotlib.org/stable/api/_as_gen/matplotlib.axes.Axes.boxplot.html)\n",
    "fig, ax = plt.subplots()\t# https://matplotlib.org/stable/api/_as_gen/matplotlib.pyplot.subplots.html\n",
    "setosa_plot = ax.boxplot(setosa_pl, patch_artist=True)\n",
    "ax.set_xticklabels(['Setosa'])\n",
    "ax.set_title('Petal Length of Setosa Species', fontdict= title_font)\n",
    "ax.set_ylabel('Petal Length (cm)')\n",
    "ax.grid(axis = \"y\", linestyle = \"--\", alpha = 0.5) "
   ]
  },
  {
   "cell_type": "markdown",
   "metadata": {},
   "source": [
    "The boxplot of *Iris setosa* shows that data is slightly skewed. More flowers appear to have a petal length above 1.5 cm.  \n",
    "There are 3 outliers, with 2 data points showing extremely short petals (less than 1.2 cm) and one extremely long petals (above 1.8 cm).  \n"
   ]
  },
  {
   "cell_type": "code",
   "execution_count": 46,
   "metadata": {},
   "outputs": [
    {
     "name": "stdout",
     "output_type": "stream",
     "text": [
      "[4.7 4.5 4.9 4.  4.6 4.5 4.7 3.3 4.6 3.9 3.5 4.2 4.  4.7 3.6 4.4 4.5 4.1\n",
      " 4.5 3.9 4.8 4.  4.9 4.7 4.3 4.4 4.8 5.  4.5 3.5 3.8 3.7 3.9 5.1 4.5 4.5\n",
      " 4.7 4.4 4.1 4.  4.4 4.6 4.  3.3 4.2 4.2 4.2 4.3 3.  4.1]\n"
     ]
    }
   ],
   "source": [
    "# print the petal length values of Iris versicolor\n",
    "versicolor_pl = versicolor[:,2]\n",
    "print(versicolor_pl)"
   ]
  },
  {
   "cell_type": "code",
   "execution_count": 52,
   "metadata": {},
   "outputs": [
    {
     "data": {
      "image/png": "[encoded data removed]",
      "text/plain": [
       "<Figure size 640x480 with 1 Axes>"
      ]
     },
     "metadata": {},
     "output_type": "display_data"
    }
   ],
   "source": [
    "# create a boxplot of petal length for versicolor species\n",
    "fig, ax = plt.subplots()\n",
    "versicolor_plot = ax.boxplot(versicolor_pl, patch_artist=True)\n",
    "ax.set_xticklabels(['Versicolor'])\n",
    "ax.set_title('Petal Length of Versicolor Species', fontdict= title_font)\n",
    "ax.set_ylabel('Petal Length (cm)')\n",
    "ax.grid(axis = \"y\", linestyle = \"--\", alpha = 0.5)"
   ]
  },
  {
   "cell_type": "markdown",
   "metadata": {},
   "source": [
    "The boxplot of *Iris versicolor* is slightly skewed. More flowers appear to have a petal length above 4.3 cm approximately.  \n",
    "There is one outlier, with one data point showing significantly lower petal length (3.0 cm) with respect to the rest.  "
   ]
  },
  {
   "cell_type": "code",
   "execution_count": 49,
   "metadata": {},
   "outputs": [
    {
     "name": "stdout",
     "output_type": "stream",
     "text": [
      "[6.  5.1 5.9 5.6 5.8 6.6 4.5 6.3 5.8 6.1 5.1 5.3 5.5 5.  5.1 5.3 5.5 6.7\n",
      " 6.9 5.  5.7 4.9 6.7 4.9 5.7 6.  4.8 4.9 5.6 5.8 6.1 6.4 5.6 5.1 5.6 6.1\n",
      " 5.6 5.5 4.8 5.4 5.6 5.1 5.1 5.9 5.7 5.2 5.  5.2 5.4 5.1]\n"
     ]
    }
   ],
   "source": [
    "# print the petal length values of Iris virginica\n",
    "virginica_pl = virginica[:,2]\n",
    "print(virginica_pl)\n"
   ]
  },
  {
   "cell_type": "code",
   "execution_count": 53,
   "metadata": {},
   "outputs": [
    {
     "data": {
      "image/png": "[encoded data removed]",
      "text/plain": [
       "<Figure size 640x480 with 1 Axes>"
      ]
     },
     "metadata": {},
     "output_type": "display_data"
    }
   ],
   "source": [
    "# create a boxplot of petal length for virginica species\n",
    "fig, ax = plt.subplots()\n",
    "virginica_plot = ax.boxplot(virginica_pl, patch_artist=True)\n",
    "ax.set_xticklabels(['Virginica'])\n",
    "ax.set_title('Petal Length of Virginica Species', fontdict= title_font)\n",
    "ax.set_ylabel('Petal Length (cm)')\n",
    "ax.grid(axis = \"y\", linestyle = \"--\", alpha = 0.5)"
   ]
  },
  {
   "cell_type": "markdown",
   "metadata": {},
   "source": [
    "The boxplot of *Iris virginica* shows a very broad distribution, with slightly skewed data.  \n",
    "There are no outliers."
   ]
  },
  {
   "cell_type": "code",
   "execution_count": 56,
   "metadata": {},
   "outputs": [
    {
     "data": {
      "image/png": "[encoded data removed]",
      "text/plain": [
       "<Figure size 640x480 with 1 Axes>"
      ]
     },
     "metadata": {},
     "output_type": "display_data"
    }
   ],
   "source": [
    "# create a plot that shows all boxplots in one figure\n",
    "fig, ax = plt.subplots()\n",
    "all_species_plot = ax.boxplot([setosa_pl, versicolor_pl, virginica_pl], patch_artist=True)\n",
    "ax.set_xlabel('Species', fontsize = 12)\n",
    "ax.set_xticklabels(['Setosa', 'Versicolor', 'Virginica'])\n",
    "ax.set_title('Petal Length of All Species', fontdict= title_font)\n",
    "ax.set_ylabel('Petal Length (cm)', fontsize = 12)\n",
    "ax.grid(axis = \"y\", linestyle = \"--\", alpha = 0.5)  "
   ]
  },
  {
   "cell_type": "markdown",
   "metadata": {},
   "source": [
    "The boxplots for petal length across the 3 *Iris* species show a strong visual separation. *Iris setosa* shows the the shortest petal length with little variation, while *versicolor* and *virginica* have longer and more varied petal lengths.  \n",
    "The petal length appears to be a highly informative feature for species classification, as the 3 species data almost do not overlap, especially with *setosa* boxplot being very far apart from the others.  \n"
   ]
  },
  {
   "cell_type": "markdown",
   "metadata": {},
   "source": [
    "# **Task 8: Compute Correlations**\n",
    "\n",
    "Calculate the correlation coefficients between the features. \n",
    "Display the results as a heatmap using matplotlib. "
   ]
  },
  {
   "cell_type": "markdown",
   "metadata": {},
   "source": [
    "# *Solution*"
   ]
  },
  {
   "cell_type": "code",
   "execution_count": null,
   "metadata": {},
   "outputs": [],
   "source": []
  },
  {
   "cell_type": "markdown",
   "metadata": {},
   "source": [
    "# **Task 9: Fit a Simple Linear Regression** \n",
    "\n",
    "For your two features in Task 5, calculate the coefficient of determination R2.\n",
    "Re-create the plot from Task 6 and annotate it with the R2 value. "
   ]
  },
  {
   "cell_type": "markdown",
   "metadata": {},
   "source": [
    "# *Solution*\n"
   ]
  },
  {
   "cell_type": "code",
   "execution_count": null,
   "metadata": {},
   "outputs": [],
   "source": []
  },
  {
   "cell_type": "markdown",
   "metadata": {},
   "source": [
    "# **Task 10: Too Many Features**\n",
    "\n",
    "Use seaborn to create a pairplot of the data set. \n",
    "Explain, in your own words, what the pairplot depicts. "
   ]
  },
  {
   "cell_type": "markdown",
   "metadata": {},
   "source": [
    "# *Solution*"
   ]
  },
  {
   "cell_type": "code",
   "execution_count": null,
   "metadata": {},
   "outputs": [],
   "source": []
  },
  {
   "cell_type": "markdown",
   "metadata": {},
   "source": [
    "## END\n"
   ]
  }
 ],
 "metadata": {
  "kernelspec": {
   "display_name": "Python 3",
   "language": "python",
   "name": "python3"
  },
  "language_info": {
   "codemirror_mode": {
    "name": "ipython",
    "version": 3
   },
   "file_extension": ".py",
   "mimetype": "text/x-python",
   "name": "python",
   "nbconvert_exporter": "python",
   "pygments_lexer": "ipython3",
   "version": "3.12.1"
  }
 },
 "nbformat": 4,
 "nbformat_minor": 2
}
